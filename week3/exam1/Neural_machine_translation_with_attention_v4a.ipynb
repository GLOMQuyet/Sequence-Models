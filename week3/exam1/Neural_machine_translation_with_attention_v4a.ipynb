{
  "nbformat": 4,
  "nbformat_minor": 0,
  "metadata": {
    "colab": {
      "name": "Neural_machine_translation_with_attention_v4a.ipynb",
      "provenance": [],
      "collapsed_sections": [],
      "toc_visible": true
    },
    "kernelspec": {
      "name": "python3",
      "display_name": "Python 3"
    },
    "language_info": {
      "name": "python"
    },
    "accelerator": "GPU"
  },
  "cells": [
    {
      "cell_type": "markdown",
      "metadata": {
        "id": "uXUQykLoFaFT"
      },
      "source": [
        "# Dịch máy thần kinh\n",
        "\n",
        "Chào mừng bạn đến với bài tập lập trình đầu tiên của bạn cho tuần này!\n",
        "\n",
        "* Bạn sẽ xây dựng mô hình Neural Machine Translation (NMT) để dịch những ngày tháng mà con người có thể đọc được (\"ngày 25 tháng 6 năm 2009\") thành những ngày tháng mà máy móc có thể đọc được (\"2009-06-25\").\n",
        "* Bạn sẽ làm điều này bằng cách sử dụng mô hình chú ý, một trong những mô hình tuần tự phức tạp nhất.\n",
        "\n",
        "Sổ tay này được sản xuất cùng với Viện Học tập Sâu của NVIDIA."
      ]
    },
    {
      "cell_type": "markdown",
      "metadata": {
        "id": "glgR9TbjFjDQ"
      },
      "source": [
        "## Table of Contents\n",
        "\n",
        "- [Packages](#0)\n",
        "- [1 - Translating Human Readable Dates Into Machine Readable Dates](#1)\n",
        "    - [1.1 - Dataset](#1-1)\n",
        "- [2 - Neural Machine Translation with Attention](#2)\n",
        "    - [2.1 - Attention Mechanism](#2-1)\n",
        "        - [Exercise 1 - one_step_attention](#ex-1)\n",
        "        - [Exercise 2 - modelf](#ex-2)\n",
        "        - [Exercise 3 - Compile the Model](#ex-3)\n",
        "- [3 - Visualizing Attention (Optional / Ungraded)](#3)\n",
        "    - [3.1 - Getting the Attention Weights From the Network](#3-1)"
      ]
    },
    {
      "cell_type": "markdown",
      "metadata": {
        "id": "WIWe6yAaFmLQ"
      },
      "source": [
        "<a name='0'></a>\n",
        "## Packages"
      ]
    },
    {
      "cell_type": "code",
      "metadata": {
        "id": "Haym-esiFfuj"
      },
      "source": [
        "from tensorflow.keras.layers import Bidirectional, Concatenate, Permute, Dot, Input, LSTM, Multiply\n",
        "from tensorflow.keras.layers import RepeatVector, Dense, Activation, Lambda\n",
        "from tensorflow.keras.optimizers import Adam\n",
        "from tensorflow.keras.utils import to_categorical\n",
        "from tensorflow.keras.models import load_model, Model\n",
        "import tensorflow.keras.backend as K\n",
        "import tensorflow as tf\n",
        "import numpy as np\n",
        "\n",
        "from faker import Faker\n",
        "import random\n",
        "from tqdm import tqdm\n",
        "from babel.dates import format_date\n",
        "from nmt_utils import *\n",
        "import matplotlib.pyplot as plt\n",
        "%matplotlib inline"
      ],
      "execution_count": null,
      "outputs": []
    },
    {
      "cell_type": "markdown",
      "metadata": {
        "id": "wUO-FeuIG7PU"
      },
      "source": [
        "<a name='1'> </a>\n",
        "## 1 - Chuyển các ngày có thể đọc của con người sang các ngày có thể đọc được của máy\n",
        "\n",
        "* Mô hình bạn sẽ xây dựng ở đây có thể được sử dụng để dịch từ ngôn ngữ này sang ngôn ngữ khác, chẳng hạn như dịch từ tiếng Anh sang tiếng Hindi.\n",
        "* Tuy nhiên, việc dịch ngôn ngữ yêu cầu bộ dữ liệu lớn và thường mất nhiều ngày đào tạo về GPU.\n",
        "* Để cung cấp cho bạn một nơi để thử nghiệm với các mô hình này mà không cần sử dụng bộ dữ liệu khổng lồ, chúng tôi sẽ thực hiện tác vụ \"dịch ngày\" đơn giản hơn.\n",
        "* Mạng sẽ nhập ngày tháng được viết bằng nhiều định dạng có thể có (*ví dụ: \"ngày 29 tháng 8 năm 1958\", \"30/03/1968\", \"24 tháng 6 năm 1987\"*)\n",
        "* Mạng sẽ dịch chúng thành các ngày chuẩn hóa, máy có thể đọc được (*ví dụ: \"1958-08-29\", \"1968-03-30\", \"1987-06-24\"*).\n",
        "* Chúng tôi sẽ yêu cầu mạng tìm hiểu để xuất ngày tháng ở định dạng phổ biến mà máy có thể đọc được là YYYY-MM-DD.\n",
        "\n",
        "<!--\n",
        "Hãy xem[nmt_utils.py] (./nmt_utils.py) để xem tất cả các định dạng. Đếm và tìm ra cách hoạt động của các định dạng, bạn sẽ cần kiến thức này sau đó. !-->"
      ]
    },
    {
      "cell_type": "markdown",
      "metadata": {
        "id": "HzpLQL1JHXJx"
      },
      "source": [
        "<a name='1-1'> </a>\n",
        "### 1.1 - Tập dữ liệu\n",
        "\n",
        "Chúng tôi sẽ đào tạo mô hình trên tập dữ liệu gồm 10.000 ngày tháng con người có thể đọc được và các ngày tháng tương đương, được tiêu chuẩn hóa, máy móc có thể đọc được. Hãy chạy các ô sau để tải tập dữ liệu và in một số ví dụ."
      ]
    },
    {
      "cell_type": "code",
      "metadata": {
        "colab": {
          "base_uri": "https://localhost:8080/"
        },
        "id": "leI5LkGQGA4V",
        "outputId": "8daf068a-20d0-48ab-adae-ed921b4686fd"
      },
      "source": [
        "m = 10000\n",
        "dataset, human_vocab, machine_vocab, inv_machine_vocab = load_dataset(m)"
      ],
      "execution_count": null,
      "outputs": [
        {
          "output_type": "stream",
          "text": [
            "100%|██████████| 10000/10000 [00:00<00:00, 18566.53it/s]\n"
          ],
          "name": "stderr"
        }
      ]
    },
    {
      "cell_type": "code",
      "metadata": {
        "colab": {
          "base_uri": "https://localhost:8080/"
        },
        "id": "mJ42TvnkHbA4",
        "outputId": "98b07494-cb33-48e7-a7cb-c80e275aa511"
      },
      "source": [
        "dataset[:10]"
      ],
      "execution_count": null,
      "outputs": [
        {
          "output_type": "execute_result",
          "data": {
            "text/plain": [
              "[('9 may 1998', '1998-05-09'),\n",
              " ('10.11.19', '2019-11-10'),\n",
              " ('9/10/70', '1970-09-10'),\n",
              " ('saturday april 28 1990', '1990-04-28'),\n",
              " ('thursday january 26 1995', '1995-01-26'),\n",
              " ('monday march 7 1983', '1983-03-07'),\n",
              " ('sunday may 22 1988', '1988-05-22'),\n",
              " ('08 jul 2008', '2008-07-08'),\n",
              " ('8 sep 1999', '1999-09-08'),\n",
              " ('thursday january 1 1981', '1981-01-01')]"
            ]
          },
          "metadata": {
            "tags": []
          },
          "execution_count": 6
        }
      ]
    },
    {
      "cell_type": "markdown",
      "metadata": {
        "id": "whKZ1XlXHs9p"
      },
      "source": [
        "Bạn đã tải:\n",
        "- `dataset`: danh sách các bộ giá trị (ngày con người đọc được, ngày máy đọc được).\n",
        "- `human_vocab`: một từ điển python ánh xạ tất cả các ký tự được sử dụng trong ngày tháng mà con người có thể đọc được thành một chỉ mục có giá trị số nguyên.\n",
        "- `machine_vocab`: một từ điển python ánh xạ tất cả các ký tự được sử dụng trong ngày tháng có thể đọc được của máy thành một chỉ mục có giá trị nguyên.\n",
        "     - **Lưu ý**: Các chỉ số này không nhất thiết phải nhất quán với `human_vocab`.\n",
        "- `inv_machine_vocab`: từ điển nghịch đảo của` machine_vocab`, ánh xạ từ các chỉ số trở lại các ký tự.\n",
        "\n",
        "Hãy xử lý trước dữ liệu và ánh xạ dữ liệu văn bản thô thành các giá trị chỉ mục.\n",
        "- Chúng ta sẽ đặt Tx = 30\n",
        "     - Chúng tôi giả định Tx là độ dài tối đa của ngày có thể đọc được của con người.\n",
        "     - Nếu chúng tôi nhận được một đầu vào dài hơn, chúng tôi sẽ phải cắt bớt nó.\n",
        "- Chúng ta sẽ đặt Ty = 10\n",
        "     - \"YYYY-MM-DD\" dài 10 ký tự."
      ]
    },
    {
      "cell_type": "code",
      "metadata": {
        "colab": {
          "base_uri": "https://localhost:8080/"
        },
        "id": "pJSczjzKHgdo",
        "outputId": "22ccabb8-59f5-4a44-a8cc-01ee9ef9ed1a"
      },
      "source": [
        "Tx = 30\n",
        "Ty = 10\n",
        "X, Y, Xoh, Yoh = preprocess_data(dataset, human_vocab, machine_vocab, Tx, Ty)\n",
        "\n",
        "print(\"X.shape:\", X.shape)\n",
        "print(\"Y.shape:\", Y.shape)\n",
        "print(\"Xoh.shape:\", Xoh.shape)\n",
        "print(\"Yoh.shape:\", Yoh.shape)"
      ],
      "execution_count": null,
      "outputs": [
        {
          "output_type": "stream",
          "text": [
            "X.shape: (10000, 30)\n",
            "Y.shape: (10000, 10)\n",
            "Xoh.shape: (10000, 30, 37)\n",
            "Yoh.shape: (10000, 10, 11)\n"
          ],
          "name": "stdout"
        }
      ]
    },
    {
      "cell_type": "markdown",
      "metadata": {
        "id": "FlDw8sxLH8nO"
      },
      "source": [
        "Bây giờ bạn có:\n",
        "- `X`: phiên bản đã xử lý của ngày con người có thể đọc được trong tập huấn luyện.\n",
        "    - Mỗi ký tự trong X được thay thế bằng một chỉ số (số nguyên) được ánh xạ tới ký tự bằng cách sử dụng `human_vocab`.\n",
        "    - Mỗi ngày được đệm để đảm bảo độ dài $T_x$ bằng cách sử dụng một ký tự đặc biệt (<pad>).\n",
        "    - `X.shape = (m, Tx)` trong đó m là số lượng ví dụ đào tạo trong một đợt.\n",
        "- `Y`: phiên bản đã xử lý của máy có thể đọc được ngày tháng trong tập huấn luyện.\n",
        "    - Mỗi ký tự được thay thế bằng chỉ số (số nguyên) mà nó được ánh xạ tới trong `machine_vocab`.\n",
        "    - `Y.shape = (m, Ty)`.\n",
        "- `Xoh`: phiên bản nóng nhất của` X`\n",
        "    - Mỗi chỉ mục trong `X` được chuyển đổi thành biểu diễn một nóng (nếu chỉ mục là 2, phiên bản một nóng có vị trí chỉ mục 2 được đặt thành 1, và các vị trí còn lại là 0.\n",
        "    - `Xoh.shape = (m, Tx, len (human_vocab)) '\n",
        "- `Yoh`: phiên bản hot nhất của` Y`\n",
        "    - Mỗi chỉ mục trong `Y` được chuyển đổi thành biểu diễn một nóng.\n",
        "    - `Yoh.shape = (m, Ty, len (machine_vocab)) '.\n",
        "    - `len (machine_vocab) = 11` vì có 10 chữ số (0 đến 9) và ký hiệu` -`."
      ]
    },
    {
      "cell_type": "markdown",
      "metadata": {
        "id": "yH7Mcb-oIXl6"
      },
      "source": [
        "* Chúng ta hãy cũng xem xét một số ví dụ về các ví dụ đào tạo tiền xử lý.\n",
        "* Vui lòng chơi với `index` trong ô bên dưới để điều hướng tập dữ liệu và xem ngày nguồn / đích được xử lý trước như thế nào."
      ]
    },
    {
      "cell_type": "code",
      "metadata": {
        "colab": {
          "base_uri": "https://localhost:8080/"
        },
        "id": "0Knnhtz3H1WL",
        "outputId": "8bac787e-8542-43c0-bd49-7eba5ecd1fa8"
      },
      "source": [
        "index = 0\n",
        "print(\"Source date:\", dataset[index][0])\n",
        "print(\"Target date:\", dataset[index][1])\n",
        "print()\n",
        "print(\"Source after preprocessing (indices):\", X[index])\n",
        "print(\"Target after preprocessing (indices):\", Y[index])\n",
        "print()\n",
        "print(\"Source after preprocessing (one-hot):\", Xoh[index])\n",
        "print(\"Target after preprocessing (one-hot):\", Yoh[index])"
      ],
      "execution_count": null,
      "outputs": [
        {
          "output_type": "stream",
          "text": [
            "Source date: 9 may 1998\n",
            "Target date: 1998-05-09\n",
            "\n",
            "Source after preprocessing (indices): [12  0 24 13 34  0  4 12 12 11 36 36 36 36 36 36 36 36 36 36 36 36 36 36\n",
            " 36 36 36 36 36 36]\n",
            "Target after preprocessing (indices): [ 2 10 10  9  0  1  6  0  1 10]\n",
            "\n",
            "Source after preprocessing (one-hot): [[0. 0. 0. ... 0. 0. 0.]\n",
            " [1. 0. 0. ... 0. 0. 0.]\n",
            " [0. 0. 0. ... 0. 0. 0.]\n",
            " ...\n",
            " [0. 0. 0. ... 0. 0. 1.]\n",
            " [0. 0. 0. ... 0. 0. 1.]\n",
            " [0. 0. 0. ... 0. 0. 1.]]\n",
            "Target after preprocessing (one-hot): [[0. 0. 1. 0. 0. 0. 0. 0. 0. 0. 0.]\n",
            " [0. 0. 0. 0. 0. 0. 0. 0. 0. 0. 1.]\n",
            " [0. 0. 0. 0. 0. 0. 0. 0. 0. 0. 1.]\n",
            " [0. 0. 0. 0. 0. 0. 0. 0. 0. 1. 0.]\n",
            " [1. 0. 0. 0. 0. 0. 0. 0. 0. 0. 0.]\n",
            " [0. 1. 0. 0. 0. 0. 0. 0. 0. 0. 0.]\n",
            " [0. 0. 0. 0. 0. 0. 1. 0. 0. 0. 0.]\n",
            " [1. 0. 0. 0. 0. 0. 0. 0. 0. 0. 0.]\n",
            " [0. 1. 0. 0. 0. 0. 0. 0. 0. 0. 0.]\n",
            " [0. 0. 0. 0. 0. 0. 0. 0. 0. 0. 1.]]\n"
          ],
          "name": "stdout"
        }
      ]
    },
    {
      "cell_type": "markdown",
      "metadata": {
        "id": "3Ut6pLcPIwYs"
      },
      "source": [
        "<a name='2'> </a>\n",
        "## 2 - Dịch máy thần kinh có chú ý\n",
        "\n",
        "* Nếu bạn phải dịch một đoạn sách từ tiếng Pháp sang tiếng Anh, bạn sẽ không đọc hết đoạn văn, sau đó đóng sách và dịch.\n",
        "* Ngay cả trong quá trình dịch, bạn sẽ đọc / đọc lại và tập trung vào các phần của đoạn tiếng Pháp tương ứng với phần tiếng Anh mà bạn đang viết ra.\n",
        "* Cơ chế chú ý cho mô hình Dịch máy thần kinh biết nơi nó cần chú ý đến ở bất kỳ bước nào.\n",
        "\n",
        "<a name='2-1'> </a>\n",
        "### 2.1 - Cơ chế chú ý\n",
        "\n",
        "Trong phần này, bạn sẽ thực hiện cơ chế chú ý được trình bày trong các video bài giảng.\n",
        "* Đây là một con số để nhắc nhở bạn cách hoạt động của mô hình.\n",
        "\n",
        "    * Sơ đồ bên trái cho thấy mô hình chú ý.\n",
        "\n",
        "    * Biểu đồ bên phải cho thấy một bước \"attention\" thực hiện để tính toán các biến attention 𝛼⟨𝑡,𝑡′⟩.\n",
        "    * Các biến chú ý 𝛼⟨𝑡,𝑡′⟩ $ được sử dụng để tính toán biến ngữ cảnh 𝑐𝑜𝑛𝑡𝑒𝑥𝑡⟨𝑡⟩ cho mỗi bước thời gian trong đầu ra ( 𝑡=1,…,𝑇𝑦 )."
      ]
    },
    {
      "cell_type": "markdown",
      "metadata": {
        "id": "sscodAVrKPIw"
      },
      "source": [
        "![image.png](data:image/png;base64,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)"
      ]
    },
    {
      "cell_type": "markdown",
      "metadata": {
        "id": "0BLwAJfpKUfK"
      },
      "source": [
        "Dưới đây là một số thuộc tính của mô hình mà bạn có thể nhận thấy:\n",
        "\n",
        "#### LSTM chú ý trước và chú ý sau ở cả hai bên của cơ chế chú ý\n",
        "- Có hai LSTM riêng biệt trong mô hình này (xem sơ đồ bên trái): LSTM chú ý trước và chú ý sau.\n",
        "- * Chú ý trước * Bi-LSTM là cái ở dưới cùng của hình là LSTM hai hướng và đến *trước* cơ chế chú ý.\n",
        "     - Cơ chế chú ý được thể hiện ở giữa sơ đồ bên tay trái.\n",
        "     - Bi-LSTM được chú ý trước trải qua các bước $ T_x $ time\n",
        "- * Hậu chú ý * LSTM: ở trên cùng của sơ đồ đến * sau * cơ chế chú ý.\n",
        "     - LSTM hậu chú ý trải qua các bước $ T_y $ time.\n",
        "\n",
        "- LSTM sau chú ý chuyển trạng thái ẩn $ s ^ {\\ langle t \\ rangle} $ và trạng thái ô $ c ^ {\\ langle t \\ rangle} $ từ bước này sang bước tiếp theo."
      ]
    },
    {
      "cell_type": "markdown",
      "metadata": {
        "id": "kD5-oAx9Kg9j"
      },
      "source": [
        "#### Một LSTM có cả trạng thái ẩn và trạng thái ô\n",
        "* Trong các video bài giảng, chúng tôi chỉ sử dụng RNN cơ bản cho mô hình trình tự chú ý sau\n",
        "     * Điều này có nghĩa là trạng thái được RNN nắm bắt chỉ xuất ra trạng thái ẩn𝑠⟨𝑡⟩ .\n",
        "* Trong bài tập này, chúng tôi đang sử dụng LSTM thay vì RNN cơ bản.\n",
        "     * Vì vậy, LSTM có cả trạng thái ẩn 𝑠⟨𝑡⟩ . và trạng thái ô 𝑐⟨𝑡⟩."
      ]
    },
    {
      "cell_type": "markdown",
      "metadata": {
        "id": "9XUqeUFTK2Jl"
      },
      "source": [
        "#### Mỗi bước thời gian không sử dụng dự đoán từ bước thời gian trước đó\n",
        "* Không giống như các ví dụ tạo văn bản trước đó trong khóa học, trong mô hình này, LSTM sau sự chú ý tại thời điểm $ t $ không lấy dự đoán của bước thời gian trước 𝑦⟨𝑡−1⟩ làm đầu vào.\n",
        "* LSTM sau chú ý tại thời điểm 't' chỉ lấy trạng thái ẩn 𝑠⟨𝑡⟩ và trạng thái ô 𝑐⟨𝑡 làm đầu vào.\n",
        "* Chúng tôi đã thiết kế mô hình theo cách này vì không giống như cách tạo ngôn ngữ (trong đó các ký tự liền kề có tương quan cao), không có sự phụ thuộc mạnh mẽ giữa ký tự trước và ký tự tiếp theo trong một ngày YYYY-MM-DD."
      ]
    },
    {
      "cell_type": "markdown",
      "metadata": {
        "id": "MpXq34flK8wo"
      },
      "source": [
        "#### Kết hợp các trạng thái ẩn từ LSTM được chú ý trước và lùi về phía sau\n",
        "- $\\overrightarrow{a}^{\\langle t \\rangle}$: trạng thái ẩn của LSTM hướng về phía trước, chú ý trước.\n",
        "-$\\overleftarrow{a}^{\\langle t \\rangle}$: trạng thái ẩn của LSTM hướng lùi, chú ý trước.\n",
        "- $a^{\\langle t \\rangle} = [\\overrightarrow{a}^{\\langle t \\rangle}, \\overleftarrow{a}^{\\langle t \\rangle}]$: ghép các kích hoạt của cả hai hướng tới $\\overrightarrow{a}^{\\langle t \\rangle}$ và hướng lùi $\\overleftarrow{a}^{\\langle t \\rangle}$ của Bi-LSTM được chú ý trước."
      ]
    },
    {
      "cell_type": "markdown",
      "metadata": {
        "id": "sBzmLoL8LvjU"
      },
      "source": [
        "#### Tính toán \"năng lượng\" $e^{\\langle t, t' \\rangle}$  dưới dạng một hàm của $ s ^ {\\langle t-1 \\rangle} $ và $ a ^ {\\langle t' \\rangle } $\n",
        "- Nhớ lại trong video bài học \"Mô hình chú ý\", tại thời điểm 6:45 đến 8:16, định nghĩa của \"e\" là một hàm của $ s ^ {\\langle t-1 \\rangle} $ và $ a ^ {\\langle t \\rangle} $.\n",
        "     - \"e\" được gọi là biến \"năng lượng\".\n",
        "     - $ s ^ {\\langle t-1 \\rangle} $ là trạng thái ẩn của LSTM sau chú ý\n",
        "     - $ a ^ {\\langle t '\\rangle} $ là trạng thái ẩn của LSTM được chú ý trước.\n",
        "     - $ s ^ {\\langle t-1 \\rangle} $ và $ a ^ {\\langle t \\rangle} $ được đưa vào một mạng nơ-ron đơn giản, mạng này học hàm để xuất ra $ e ^ {\\langle t, t ' \\rangle} $.\n",
        "     - $ e ^ {\\langle t, t '\\rangle} $ sau đó được sử dụng khi tính toán sự chú ý $ a ^ {\\langle t, t' \\rangle} $ mà $ y ^ {\\langle t \\rangle} $ phải trả thành $ a ^ {\\langle t '\\rangle} $"
      ]
    },
    {
      "cell_type": "markdown",
      "metadata": {
        "id": "VlN_EuMjMS5A"
      },
      "source": [
        "- Sơ đồ bên phải hình 1 sử dụng nút `RepeatVector` để sao chép giá trị $ s ^ {\\langle t-1 \\rangle} $ của $ T_x $ lần.\n",
        "- Sau đó, nó sử dụng `Concatenation` để nối $ s ^ {\\langle t-1 \\rangle} $ và $ a ^ {\\langle t \\rangle} $.\n",
        "- Việc nối $ s ^ {\\angle t-1 \\rangle} $ và $ a ^ {\\langle t \\rangle} $ được đưa vào một lớp \"Dense\", lớp này sẽ tính $ e ^ {\\langle t, t ' \\rangle} $.\n",
        "- $ e ^ {\\langle t, t '\\rangle} $ sau đó được chuyển qua softmax để tính $ \\alpha ^ {\\langle t, t' \\rangle} $.\n",
        "- Lưu ý rằng biểu đồ không hiển thị rõ ràng biến $ e ^ {\\langle t, t '\\rangle} $, nhưng $ e ^ {\\langle t, t' \\rangle} $ ở trên lớp Dense và bên dưới Softmax lớp trong sơ đồ ở nửa bên phải của hình 1.\n",
        "- Chúng tôi sẽ giải thích cách sử dụng `RepeatVector` và` Concatenation` trong Keras bên dưới."
      ]
    },
    {
      "cell_type": "markdown",
      "metadata": {
        "id": "7bmh_welMuwv"
      },
      "source": [
        "#### Chi tiết Triển khai\n",
        "   \n",
        "Hãy thực hiện trình dịch thần kinh này. Bạn sẽ bắt đầu bằng cách triển khai hai hàm: `one_step_attention ()` và `model ()`.\n",
        "\n",
        "#### one_step_attention\n",
        "* Các đầu vào cho bước one_step_attention tại thời điểm $ t $ là:\n",
        "     - [𝑎<1>,𝑎<2>,...,𝑎<𝑇𝑥>] : tất cả các trạng thái ẩn của Bi-LSTM được chú ý trước.\n",
        "     - 𝑠<𝑡−1>: trạng thái ẩn trước đó của LSTM sau chú ý\n",
        "* one_step_attention tính:\n",
        "     - $ [\\alpha ^ {<t, 1>}, \\alpha ^ {<t, 2>}, ..., \\alpha ^ {<t, T_x>}] $: trọng số chú ý\n",
        "     - $ context ^ {\\langle t \\rangle} $: vectơ ngữ cảnh:\n",
        "    \n",
        "$$ context ^ {<t>} = \\sum_ {t '= 1} ^ {T_x} \\alpha ^ {<t, t'>} a ^ {<t '>} \\tag {1} $$\n",
        "\n",
        "##### Làm rõ 'ngữ cảnh' và 'c'\n",
        "- Trong các video bài giảng, ngữ cảnh được ký hiệu là $ c ^ {\\langle t \\rangle} $\n",
        "- Trong bài tập, chúng tôi đang gọi ngữ cảnh $ context ^ {\\langle t \\rangle} $.\n",
        "     - Điều này để tránh nhầm lẫn với biến ô bộ nhớ trong của LSTM sau chú ý, cũng được ký hiệu là $ c ^ {\\langle t \\rangle} $."
      ]
    },
    {
      "cell_type": "markdown",
      "metadata": {
        "id": "uTVYuSEyNirn"
      },
      "source": [
        "<a name='ex-1'> </a>\n",
        "### Bài tập 1 - one_step_attention\n",
        "\n",
        "Triển khai `one_step_attention ()`.\n",
        "\n",
        "* Hàm `model ()` sẽ gọi các lớp trong `one_step_attention ()` $ T_y $ lần bằng vòng lặp for.\n",
        "* Điều quan trọng là tất cả các bản sao $ T_y $ có cùng trọng lượng.\n",
        "    * Nó không nên bắt đầu lại trọng lượng mỗi lần.\n",
        "    * Nói cách khác, tất cả các bước $ T_y $ phải có trọng số chung.\n",
        "* Đây là cách bạn có thể triển khai các lớp với trọng số có thể chia sẻ trong Keras:\n",
        "    1. Xác định các đối tượng lớp trong một phạm vi biến nằm ngoài hàm `one_step_attention`. Ví dụ, xác định các đối tượng là biến toàn cục sẽ hoạt động.\n",
        "        - Lưu ý rằng việc xác định các biến này bên trong phạm vi của hàm `model` về mặt kỹ thuật sẽ hoạt động, vì khi đó` model` sẽ gọi hàm `one_step_attention`. Với mục đích giúp việc phân loại và khắc phục sự cố dễ dàng hơn, chúng tôi đang định nghĩa chúng là các biến toàn cục. Lưu ý rằng trình chấm điểm tự động cũng sẽ mong đợi đây là các biến toàn cục.\n",
        "    2. Gọi các đối tượng này khi truyền đầu vào.\n",
        "* Chúng tôi đã xác định các lớp bạn cần làm biến toàn cục.\n",
        "    * Vui lòng chạy các ô sau để tạo chúng.\n",
        "    * Xin lưu ý rằng trình chấm điểm tự động mong đợi các biến toàn cục này với các tên biến đã cho. Đối với mục đích chấm điểm, vui lòng không đổi tên các biến toàn cục.\n",
        "* Vui lòng kiểm tra tài liệu Keras để tìm hiểu thêm về các lớp này. Các lớp là các chức năng. Dưới đây là các ví dụ về cách gọi các hàm này.\n",
        "    * [RepeatVector()](https://www.tensorflow.org/api_docs/python/tf/keras/layers/RepeatVector)\n",
        "```Python\n",
        "var_repeated = repeat_layer(var1)\n",
        "```\n",
        "    * [Concatenate()](https://www.tensorflow.org/api_docs/python/tf/keras/layers/Concatenate)   \n",
        "```Python\n",
        "concatenated_vars = concatenate_layer([var1,var2,var3])\n",
        "```\n",
        "    * [Dense()](https://keras.io/layers/core/#dense)  \n",
        "```Python\n",
        "var_out = dense_layer(var_in)\n",
        "```\n",
        "    * [Activation()](https://keras.io/layers/core/#activation)  \n",
        "```Python\n",
        "activation = activation_layer(var_in)  \n",
        "```\n",
        "    * [Dot()](https://www.tensorflow.org/api_docs/python/tf/keras/layers/Dot)  \n",
        "```Python\n",
        "dot_product = dot_layer([var1,var2])\n",
        "```"
      ]
    },
    {
      "cell_type": "code",
      "metadata": {
        "id": "oejrbqtCIcCW"
      },
      "source": [
        "# Defined shared layers as global variables\n",
        "repeator = RepeatVector(Tx)\n",
        "concatenator = Concatenate(axis=-1)\n",
        "densor1 = Dense(10, activation = \"tanh\")\n",
        "densor2 = Dense(1, activation = \"relu\")\n",
        "activator = Activation(softmax, name='attention_weights') # We are using a custom softmax(axis = 1) loaded in this notebook\n",
        "dotor = Dot(axes = 1)"
      ],
      "execution_count": null,
      "outputs": []
    },
    {
      "cell_type": "code",
      "metadata": {
        "id": "dgCU0xdMN7pd"
      },
      "source": [
        "# UNQ_C1 (UNIQUE CELL IDENTIFIER, DO NOT EDIT)\n",
        "# GRADED FUNCTION: one_step_attention\n",
        "\n",
        "def one_step_attention(a, s_prev):\n",
        "    \"\"\"\n",
        "    Performs one step of attention: Outputs a context vector computed as a dot product of the attention weights\n",
        "    \"alphas\" and the hidden states \"a\" of the Bi-LSTM.\n",
        "    \n",
        "    Arguments:\n",
        "    a -- hidden state output of the Bi-LSTM, numpy-array of shape (m, Tx, 2*n_a)\n",
        "    s_prev -- previous hidden state of the (post-attention) LSTM, numpy-array of shape (m, n_s)\n",
        "    \n",
        "    Returns:\n",
        "    context -- context vector, input of the next (post-attention) LSTM cell\n",
        "    \"\"\"\n",
        "    \n",
        "    ### START CODE HERE ###\n",
        "    # Use repeator to repeat s_prev to be of shape (m, Tx, n_s) so that you can concatenate it with all hidden states \"a\" (≈ 1 line)\n",
        "    s_prev = repeator(s_prev)\n",
        "    # Use concatenator to concatenate a and s_prev on the last axis (≈ 1 line)\n",
        "    # For grading purposes, please list 'a' first and 's_prev' second, in this order.\n",
        "    concat = concatenator([a,s_prev])\n",
        "    # Use densor1 to propagate concat through a small fully-connected neural network to compute the \"intermediate energies\" variable e. (≈1 lines)\n",
        "    e = densor1(concat)\n",
        "    \n",
        "    # Use densor2 to propagate e through a small fully-connected neural network to compute the \"energies\" variable energies. (≈1 lines)\n",
        "    energies =  densor2(e)\n",
        "    # Use \"activator\" on \"energies\" to compute the attention weights \"alphas\" (≈ 1 line)\n",
        "    alphas = activator(energies)\n",
        "    # Use dotor together with \"alphas\" and \"a\", in this order, to compute the context vector to be given to the next (post-attention) LSTM-cell (≈ 1 line)\n",
        "    context = dotor([alphas,a])\n",
        "\n",
        "    ### END CODE HERE ###\n",
        "    \n",
        "    return context"
      ],
      "execution_count": null,
      "outputs": []
    },
    {
      "cell_type": "code",
      "metadata": {
        "colab": {
          "base_uri": "https://localhost:8080/"
        },
        "id": "PFr_QE75RkLM",
        "outputId": "79e586b1-8ae1-4acb-d5d7-7391ff8f9fa2"
      },
      "source": [
        "# UNIT TEST\n",
        "def one_step_attention_test(target):\n",
        "\n",
        "    m = 10\n",
        "    Tx = 30\n",
        "    n_a = 32\n",
        "    n_s = 64\n",
        "    #np.random.seed(10)\n",
        "    a = np.random.uniform(1, 0, (m, Tx, 2 * n_a)).astype(np.float32)\n",
        "    s_prev =np.random.uniform(1, 0, (m, n_s)).astype(np.float32) * 1\n",
        "    context = target(a, s_prev)\n",
        "    \n",
        "    #assert type(context) == tf.python.framework.ops.EagerTensor, \"Unexpected type. It should be a Tensor\"\n",
        "    assert tuple(context.shape) == (m, 1, n_s), \"Unexpected output shape\"\n",
        "    assert np.all(context.numpy() > 0), \"All output values must be > 0 in this example\"\n",
        "    assert np.all(context.numpy() < 1), \"All output values must be < 1 in this example\"\n",
        "\n",
        "    #assert np.allclose(context[0][0][0:5].numpy(), [0.50877404, 0.57160693, 0.45448175, 0.50074816, 0.53651875]), \"Unexpected values in the result\"\n",
        "    print(\"\\033[92mAll tests passed!\")\n",
        "    \n",
        "one_step_attention_test(one_step_attention)"
      ],
      "execution_count": null,
      "outputs": [
        {
          "output_type": "stream",
          "text": [
            "\u001b[92mAll tests passed!\n"
          ],
          "name": "stdout"
        }
      ]
    },
    {
      "cell_type": "markdown",
      "metadata": {
        "id": "95MPAS_jRxIo"
      },
      "source": [
        "<a name='ex-2'> </a>\n",
        "### Bài tập 2 - modelf\n",
        "\n",
        "Triển khai `modelf () 'như được giải thích trong hình 1 và các hướng dẫn:\n",
        "\n",
        "* `modelf` đầu tiên chạy đầu vào thông qua Bi-LSTM để nhận $ [a ^ {<1>}, a ^ {<2>}, ..., a ^ {<T_x>}] $.\n",
        "* Sau đó, `modelf` gọi` one_step_attention () `$ T_y $ lần bằng cách sử dụng vòng lặp` for`. Tại mỗi lần lặp lại của vòng lặp này:\n",
        "     - Nó cung cấp vectơ ngữ cảnh được tính toán 𝑐𝑜𝑛𝑡𝑒𝑥𝑡<𝑡> cho LSTM hậu chú ý.\n",
        "     - Nó chạy đầu ra của LSTM sau chú ý thông qua một lớp dày đặc với kích hoạt softmax.\n",
        "     - Softmax tạo ra một dự đoán 𝑦̂ <𝑡>.\n",
        "    \n",
        "Một lần nữa, chúng tôi đã xác định các lớp toàn cục sẽ chia sẻ trọng số được sử dụng trong `modelf ()`."
      ]
    },
    {
      "cell_type": "code",
      "metadata": {
        "id": "w67dB1SRRmRC"
      },
      "source": [
        "n_a = 32 # number of units for the pre-attention, bi-directional LSTM's hidden state 'a'\n",
        "n_s = 64 # number of units for the post-attention LSTM's hidden state \"s\"\n",
        "\n",
        "# Please note, this is the post attention LSTM cell.  \n",
        "post_activation_LSTM_cell = LSTM(n_s, return_state = True) # Please do not modify this global variable.\n",
        "output_layer = Dense(len(machine_vocab), activation=softmax)"
      ],
      "execution_count": null,
      "outputs": []
    },
    {
      "cell_type": "markdown",
      "metadata": {
        "id": "W5tt61nUSWsR"
      },
      "source": [
        "Bây giờ bạn có thể sử dụng các lớp $ T_y $ times này trong vòng lặp `for` để tạo kết quả đầu ra và các tham số của chúng sẽ không được khởi động lại. Bạn sẽ phải thực hiện các bước sau:\n",
        "\n",
        "1. Truyền đầu vào `X` thành LSTM hai chiều.\n",
        "    * [Bidirectional](https://keras.io/layers/wrappers/#bidirectional)\n",
        "    * [LSTM](https://keras.io/layers/recurrent/#lstm)\n",
        "    * Hãy nhớ rằng chúng ta muốn LSTM trả về một chuỗi đầy đủ thay vì chỉ trạng thái ẩn cuối cùng.\n",
        "    \n",
        "Mã mẫu:\n",
        "\n",
        "```Python\n",
        "sequence_of_hidden_states = Bidirectional(LSTM(units=..., return_sequences=...))(the_input_X)\n",
        "```\n",
        "    \n",
        "2. Lặp lại cho $ t = 0, \\ cdots, T_y-1 $:\n",
        "    1. Gọi `one_step_attention ()`, truyền vào chuỗi các trạng thái ẩn $ [a ^ {\\langle 1 \\rangle}, a ^ {\\langle 2 \\rangle}, ..., a ^ {\\langle T_x \\rangle }] $ từ LSTM hai chiều được chú ý trước và trạng thái ẩn trước đó   𝑠<𝑡−1> từ LSTM sau chú ý để tính toán vectơ ngữ cảnh 𝑐𝑜𝑛𝑡𝑒𝑥𝑡<𝑡> .\n",
        "    2. Đưa 𝑐𝑜𝑛𝑡𝑒𝑥𝑡<𝑡> vào ô LSTM sau chú ý.\n",
        "        - Hãy nhớ chuyển ở trạng thái ẩn $ s ^ {\\langle t-1 \\rangle} $ trước đó và các trạng thái ô $ c ^ {\\langle t-1 \\rangle} $ của LSTM này\n",
        "        * Điều này xuất ra trạng thái ẩn mới 𝑠<𝑡> và trạng thái ô mới 𝑐<𝑡> .\n",
        "\n",
        "        Mã mẫu:\n",
        "        ```Python\n",
        "        next_hidden_state, _ , next_cell_state = \n",
        "            post_activation_LSTM_cell(inputs=..., initial_state=[prev_hidden_state, prev_cell_state])\n",
        "        ```  \n",
        "        Xin lưu ý rằng lớp thực sự là \"ô LSTM đăng sự chú ý\". Với mục đích vượt qua máy chấm điểm tự động, vui lòng không sửa đổi cách đặt tên của biến toàn cục này. Điều này sẽ được khắc phục khi chúng tôi triển khai các bản cập nhật cho máy chấm điểm tự động.\n",
        "    3. Áp dụng một lớp softmax dày đặc cho $ s ^ {<t>} $, lấy đầu ra.\n",
        "        Mã mẫu:\n",
        "        ```Python\n",
        "        output = output_layer(inputs=...)\n",
        "        ```\n",
        "    4. Lưu kết quả đầu ra bằng cách thêm nó vào danh sách kết quả đầu ra.\n",
        "\n",
        "3. Tạo cá thể mô hình Keras của bạn.\n",
        "    * Nó phải có ba đầu vào:\n",
        "        * `X`, đầu vào được mã hóa một lần cho mô hình, có hình dạng ($T_{x}, humanVocabSize)$\n",
        "        * $s^{\\langle 0 \\rangle}$, trạng thái ẩn ban đầu của LSTM sau chú ý\n",
        "        * $ c ^ {\\langle 0 \\rangle} $, trạng thái ô ban đầu của LSTM hậu chú ý\n",
        "    * Đầu ra là danh sách các đầu ra.\n",
        "    Mã mẫu\n",
        "    ```Python\n",
        "    model = Model(inputs=[...,...,...], outputs=...)\n",
        "    ```"
      ]
    },
    {
      "cell_type": "code",
      "metadata": {
        "id": "xBb2fdBXSKt4"
      },
      "source": [
        "# UNQ_C2 (UNIQUE CELL IDENTIFIER, DO NOT EDIT)\n",
        "# GRADED FUNCTION: model\n",
        "\n",
        "def modelf(Tx, Ty, n_a, n_s, human_vocab_size, machine_vocab_size):\n",
        "    \"\"\"\n",
        "    Arguments:\n",
        "    Tx -- length of the input sequence\n",
        "    Ty -- length of the output sequence\n",
        "    n_a -- hidden state size of the Bi-LSTM\n",
        "    n_s -- hidden state size of the post-attention LSTM\n",
        "    human_vocab_size -- size of the python dictionary \"human_vocab\"\n",
        "    machine_vocab_size -- size of the python dictionary \"machine_vocab\"\n",
        "\n",
        "    Returns:\n",
        "    model -- Keras model instance\n",
        "    \"\"\"\n",
        "    \n",
        "    # Define the inputs of your model with a shape (Tx,)\n",
        "    # Define s0 (initial hidden state) and c0 (initial cell state)\n",
        "    # for the decoder LSTM with shape (n_s,)\n",
        "    X = Input(shape=(Tx, human_vocab_size))\n",
        "    s0 = Input(shape=(n_s,), name='s0')\n",
        "    c0 = Input(shape=(n_s,), name='c0')\n",
        "    s = s0\n",
        "    c = c0\n",
        "    \n",
        "    # Initialize empty list of outputs\n",
        "    outputs = []\n",
        "    \n",
        "    ### START CODE HERE ###\n",
        "    \n",
        "    # Step 1: Define your pre-attention Bi-LSTM. (≈ 1 line)\n",
        "    a =  Bidirectional(LSTM(units=n_a, return_sequences=True))(X)\n",
        "    \n",
        "    # Step 2: Iterate for Ty steps\n",
        "    for t in range(Ty):\n",
        "    \n",
        "        # Step 2.A: Perform one step of the attention mechanism to get back the context vector at step t (≈ 1 line)\n",
        "        context = one_step_attention (a,s)\n",
        "        \n",
        "        # Step 2.B: Apply the post-attention LSTM cell to the \"context\" vector.\n",
        "        # Don't forget to pass: initial_state = [hidden state, cell state] (≈ 1 line)\n",
        "        s, _, c = post_activation_LSTM_cell(inputs=context, initial_state=[s,c])\n",
        "        \n",
        "        # Step 2.C: Apply Dense layer to the hidden state output of the post-attention LSTM (≈ 1 line)\n",
        "        out = output_layer(inputs=c)\n",
        "        \n",
        "        # Step 2.D: Append \"out\" to the \"outputs\" list (≈ 1 line)\n",
        "        outputs.append(out)\n",
        "    \n",
        "    # Step 3: Create model instance taking three inputs and returning the list of outputs. (≈ 1 line)\n",
        "    model = Model(inputs=[X,s0,c0], outputs=outputs)\n",
        "    \n",
        "    ### END CODE HERE ###\n",
        "    \n",
        "    return model"
      ],
      "execution_count": null,
      "outputs": []
    },
    {
      "cell_type": "code",
      "metadata": {
        "id": "g-wVxmADWkcH"
      },
      "source": [
        "# UNIT TEST\n",
        "\n",
        "\n",
        "def modelf_test(target):\n",
        "    m = 10\n",
        "    Tx = 30\n",
        "    n_a = 32\n",
        "    n_s = 64\n",
        "    len_human_vocab = 37\n",
        "    len_machine_vocab = 11\n",
        "    \n",
        "    \n",
        "    model = target(Tx, Ty, n_a, n_s, len_human_vocab, len_machine_vocab)\n",
        "    \n",
        "\n",
        "    \n",
        "    expected_summary = [['InputLayer', [(None, 30, 37)], 0],\n",
        "                         ['InputLayer', [(None, 64)], 0],\n",
        "                         ['Bidirectional', (None, 30, 64), 17920],\n",
        "                         ['RepeatVector', (None, 30, 64), 0, 30],\n",
        "                         ['Concatenate', (None, 30, 128), 0],\n",
        "                         ['Dense', (None, 30, 10), 1290, 'tanh'],\n",
        "                         ['Dense', (None, 30, 1), 11, 'relu'],\n",
        "                         ['Activation', (None, 30, 1), 0],\n",
        "                         ['Dot', (None, 1, 64), 0],\n",
        "                         ['InputLayer', [(None, 64)], 0],\n",
        "                         ['LSTM',[(None, 64), (None, 64), (None, 64)], 33024,[(None, 1, 64), (None, 64), (None, 64)],'tanh'],\n",
        "                         ['Dense', (None, 11), 715, 'softmax']]\n",
        "    \n",
        "\n",
        "modelf_test(modelf)"
      ],
      "execution_count": null,
      "outputs": []
    },
    {
      "cell_type": "code",
      "metadata": {
        "id": "W4qelYa6WmfC"
      },
      "source": [
        "model = modelf(Tx, Ty, n_a, n_s, len(human_vocab), len(machine_vocab))"
      ],
      "execution_count": null,
      "outputs": []
    },
    {
      "cell_type": "code",
      "metadata": {
        "colab": {
          "base_uri": "https://localhost:8080/"
        },
        "id": "cY6InBxCWwtF",
        "outputId": "e78d5c4d-3c49-4a0c-d5ed-6d215e112f6d"
      },
      "source": [
        "model.summary()"
      ],
      "execution_count": null,
      "outputs": [
        {
          "output_type": "stream",
          "text": [
            "Model: \"model_3\"\n",
            "__________________________________________________________________________________________________\n",
            "Layer (type)                    Output Shape         Param #     Connected to                     \n",
            "==================================================================================================\n",
            "input_4 (InputLayer)            [(None, 30, 37)]     0                                            \n",
            "__________________________________________________________________________________________________\n",
            "s0 (InputLayer)                 [(None, 64)]         0                                            \n",
            "__________________________________________________________________________________________________\n",
            "bidirectional_3 (Bidirectional) (None, 30, 64)       17920       input_4[0][0]                    \n",
            "__________________________________________________________________________________________________\n",
            "repeat_vector (RepeatVector)    (None, 30, 64)       0           s0[0][0]                         \n",
            "                                                                 lstm[30][0]                      \n",
            "                                                                 lstm[31][0]                      \n",
            "                                                                 lstm[32][0]                      \n",
            "                                                                 lstm[33][0]                      \n",
            "                                                                 lstm[34][0]                      \n",
            "                                                                 lstm[35][0]                      \n",
            "                                                                 lstm[36][0]                      \n",
            "                                                                 lstm[37][0]                      \n",
            "                                                                 lstm[38][0]                      \n",
            "__________________________________________________________________________________________________\n",
            "concatenate (Concatenate)       (None, 30, 128)      0           bidirectional_3[0][0]            \n",
            "                                                                 repeat_vector[30][0]             \n",
            "                                                                 bidirectional_3[0][0]            \n",
            "                                                                 repeat_vector[31][0]             \n",
            "                                                                 bidirectional_3[0][0]            \n",
            "                                                                 repeat_vector[32][0]             \n",
            "                                                                 bidirectional_3[0][0]            \n",
            "                                                                 repeat_vector[33][0]             \n",
            "                                                                 bidirectional_3[0][0]            \n",
            "                                                                 repeat_vector[34][0]             \n",
            "                                                                 bidirectional_3[0][0]            \n",
            "                                                                 repeat_vector[35][0]             \n",
            "                                                                 bidirectional_3[0][0]            \n",
            "                                                                 repeat_vector[36][0]             \n",
            "                                                                 bidirectional_3[0][0]            \n",
            "                                                                 repeat_vector[37][0]             \n",
            "                                                                 bidirectional_3[0][0]            \n",
            "                                                                 repeat_vector[38][0]             \n",
            "                                                                 bidirectional_3[0][0]            \n",
            "                                                                 repeat_vector[39][0]             \n",
            "__________________________________________________________________________________________________\n",
            "dense (Dense)                   (None, 30, 10)       1290        concatenate[30][0]               \n",
            "                                                                 concatenate[31][0]               \n",
            "                                                                 concatenate[32][0]               \n",
            "                                                                 concatenate[33][0]               \n",
            "                                                                 concatenate[34][0]               \n",
            "                                                                 concatenate[35][0]               \n",
            "                                                                 concatenate[36][0]               \n",
            "                                                                 concatenate[37][0]               \n",
            "                                                                 concatenate[38][0]               \n",
            "                                                                 concatenate[39][0]               \n",
            "__________________________________________________________________________________________________\n",
            "dense_1 (Dense)                 (None, 30, 1)        11          dense[30][0]                     \n",
            "                                                                 dense[31][0]                     \n",
            "                                                                 dense[32][0]                     \n",
            "                                                                 dense[33][0]                     \n",
            "                                                                 dense[34][0]                     \n",
            "                                                                 dense[35][0]                     \n",
            "                                                                 dense[36][0]                     \n",
            "                                                                 dense[37][0]                     \n",
            "                                                                 dense[38][0]                     \n",
            "                                                                 dense[39][0]                     \n",
            "__________________________________________________________________________________________________\n",
            "attention_weights (Activation)  (None, 30, 1)        0           dense_1[30][0]                   \n",
            "                                                                 dense_1[31][0]                   \n",
            "                                                                 dense_1[32][0]                   \n",
            "                                                                 dense_1[33][0]                   \n",
            "                                                                 dense_1[34][0]                   \n",
            "                                                                 dense_1[35][0]                   \n",
            "                                                                 dense_1[36][0]                   \n",
            "                                                                 dense_1[37][0]                   \n",
            "                                                                 dense_1[38][0]                   \n",
            "                                                                 dense_1[39][0]                   \n",
            "__________________________________________________________________________________________________\n",
            "dot (Dot)                       (None, 1, 64)        0           attention_weights[30][0]         \n",
            "                                                                 bidirectional_3[0][0]            \n",
            "                                                                 attention_weights[31][0]         \n",
            "                                                                 bidirectional_3[0][0]            \n",
            "                                                                 attention_weights[32][0]         \n",
            "                                                                 bidirectional_3[0][0]            \n",
            "                                                                 attention_weights[33][0]         \n",
            "                                                                 bidirectional_3[0][0]            \n",
            "                                                                 attention_weights[34][0]         \n",
            "                                                                 bidirectional_3[0][0]            \n",
            "                                                                 attention_weights[35][0]         \n",
            "                                                                 bidirectional_3[0][0]            \n",
            "                                                                 attention_weights[36][0]         \n",
            "                                                                 bidirectional_3[0][0]            \n",
            "                                                                 attention_weights[37][0]         \n",
            "                                                                 bidirectional_3[0][0]            \n",
            "                                                                 attention_weights[38][0]         \n",
            "                                                                 bidirectional_3[0][0]            \n",
            "                                                                 attention_weights[39][0]         \n",
            "                                                                 bidirectional_3[0][0]            \n",
            "__________________________________________________________________________________________________\n",
            "c0 (InputLayer)                 [(None, 64)]         0                                            \n",
            "__________________________________________________________________________________________________\n",
            "lstm (LSTM)                     [(None, 64), (None,  33024       dot[30][0]                       \n",
            "                                                                 s0[0][0]                         \n",
            "                                                                 c0[0][0]                         \n",
            "                                                                 dot[31][0]                       \n",
            "                                                                 lstm[30][0]                      \n",
            "                                                                 lstm[30][2]                      \n",
            "                                                                 dot[32][0]                       \n",
            "                                                                 lstm[31][0]                      \n",
            "                                                                 lstm[31][2]                      \n",
            "                                                                 dot[33][0]                       \n",
            "                                                                 lstm[32][0]                      \n",
            "                                                                 lstm[32][2]                      \n",
            "                                                                 dot[34][0]                       \n",
            "                                                                 lstm[33][0]                      \n",
            "                                                                 lstm[33][2]                      \n",
            "                                                                 dot[35][0]                       \n",
            "                                                                 lstm[34][0]                      \n",
            "                                                                 lstm[34][2]                      \n",
            "                                                                 dot[36][0]                       \n",
            "                                                                 lstm[35][0]                      \n",
            "                                                                 lstm[35][2]                      \n",
            "                                                                 dot[37][0]                       \n",
            "                                                                 lstm[36][0]                      \n",
            "                                                                 lstm[36][2]                      \n",
            "                                                                 dot[38][0]                       \n",
            "                                                                 lstm[37][0]                      \n",
            "                                                                 lstm[37][2]                      \n",
            "                                                                 dot[39][0]                       \n",
            "                                                                 lstm[38][0]                      \n",
            "                                                                 lstm[38][2]                      \n",
            "__________________________________________________________________________________________________\n",
            "dense_2 (Dense)                 (None, 11)           715         lstm[30][2]                      \n",
            "                                                                 lstm[31][2]                      \n",
            "                                                                 lstm[32][2]                      \n",
            "                                                                 lstm[33][2]                      \n",
            "                                                                 lstm[34][2]                      \n",
            "                                                                 lstm[35][2]                      \n",
            "                                                                 lstm[36][2]                      \n",
            "                                                                 lstm[37][2]                      \n",
            "                                                                 lstm[38][2]                      \n",
            "                                                                 lstm[39][2]                      \n",
            "==================================================================================================\n",
            "Total params: 52,960\n",
            "Trainable params: 52,960\n",
            "Non-trainable params: 0\n",
            "__________________________________________________________________________________________________\n"
          ],
          "name": "stdout"
        }
      ]
    },
    {
      "cell_type": "markdown",
      "metadata": {
        "id": "0kEsxPNeXAg7"
      },
      "source": [
        "<a name='ex-3'> </a>\n",
        "### Bài tập 3 - Biên dịch Mô hình\n",
        "\n",
        "* Sau khi tạo mô hình của bạn trong Keras, bạn cần phải biên dịch nó và xác định hàm mất mát, trình tối ưu hóa và số liệu bạn muốn sử dụng.\n",
        "     * Loss function: 'categorical_crossentropy'.\n",
        "    * Optimizer: [Adam](https://keras.io/optimizers/#adam) [optimizer](https://keras.io/optimizers/#usage-of-optimizers)\n",
        "        - learning rate = 0.005 \n",
        "        - $\\beta_1 = 0.9$\n",
        "        - $\\beta_2 = 0.999$\n",
        "        - decay = 0.01  \n",
        "    * metric: 'accuracy'\n",
        "    \n",
        "Mã mẫu\n",
        "```Python\n",
        "optimizer = Adam(lr=..., beta_1=..., beta_2=..., decay=...)\n",
        "model.compile(optimizer=..., loss=..., metrics=[...])\n",
        "```"
      ]
    },
    {
      "cell_type": "code",
      "metadata": {
        "id": "i4njVbsGWyT9"
      },
      "source": [
        "### START CODE HERE ### (≈2 lines)\n",
        "opt = Adam(lr=0.005, beta_1=0.9, beta_2=0.999, decay=0.01) # Adam(...) \n",
        "model.compile(loss = 'categorical_crossentropy', optimizer = opt, metrics = ['accuracy'])\n",
        "### END CODE HERE ###"
      ],
      "execution_count": null,
      "outputs": []
    },
    {
      "cell_type": "code",
      "metadata": {
        "colab": {
          "base_uri": "https://localhost:8080/"
        },
        "id": "2jQR3ypgXnS8",
        "outputId": "4983b2e0-d46e-44c9-9668-f7c3f16ef288"
      },
      "source": [
        "# UNIT TESTS\n",
        "assert opt.lr == 0.005, \"Set the lr parameter to 0.005\"\n",
        "assert opt.beta_1 == 0.9, \"Set the beta_1 parameter to 0.9\"\n",
        "assert opt.beta_2 == 0.999, \"Set the beta_1 parameter to 0.999\"\n",
        "assert opt.decay == 0.01, \"Set the decay parameter to 0.01\"\n",
        "assert model.loss == \"categorical_crossentropy\", \"Wrong loss. Use 'categorical_crossentropy'\"\n",
        "assert model.optimizer == opt, \"Use the optimizer that you have instantiated\"\n",
        "assert model.compiled_metrics._user_metrics[0] == 'accuracy', \"set metrics to ['accuracy']\"\n",
        "\n",
        "print(\"\\033[92mAll tests passed!\")"
      ],
      "execution_count": null,
      "outputs": [
        {
          "output_type": "stream",
          "text": [
            "\u001b[92mAll tests passed!\n"
          ],
          "name": "stdout"
        }
      ]
    },
    {
      "cell_type": "markdown",
      "metadata": {
        "id": "Kf-F8t2KXuQh"
      },
      "source": [
        "#### Xác định đầu vào và đầu ra và phù hợp với mô hình\n",
        "Bước cuối cùng là xác định tất cả các đầu vào và đầu ra của bạn để phù hợp với mô hình:\n",
        "- Bạn có đầu vào X của hình $ (m = 10000, T_x = 30) $ chứa các ví dụ đào tạo.\n",
        "- Bạn cần tạo `s0` và` c0` để khởi tạo `post_attention_LSTM_cell` của bạn bằng các số 0.\n",
        "- Với `model ()` mà bạn đã mã hóa, bạn cần \"đầu ra\" là danh sách 10 phần tử của hình dạng (m, T_y).\n",
        "     - Danh sách `đầu ra [i] [0], ..., đầu ra [i] [Ty]` đại diện cho các nhãn (ký tự) thực tương ứng với ví dụ đào tạo $ i ^ {th} $ (`X [i]` ).\n",
        "     - `outputs [i] [j]` là nhãn thực của ký tự $ j ^ {th} $ trong ví dụ đào tạo $ i ^ {th} $."
      ]
    },
    {
      "cell_type": "code",
      "metadata": {
        "id": "rZA8TkEeXplQ"
      },
      "source": [
        "s0 = np.zeros((m, n_s))\n",
        "c0 = np.zeros((m, n_s))\n",
        "outputs = list(Yoh.swapaxes(0,1))"
      ],
      "execution_count": null,
      "outputs": []
    },
    {
      "cell_type": "code",
      "metadata": {
        "colab": {
          "base_uri": "https://localhost:8080/"
        },
        "id": "pLeuIukXXwVq",
        "outputId": "a6de9d20-dca0-4183-8c8c-0a29696b726d"
      },
      "source": [
        "model.fit([Xoh, s0, c0], outputs, epochs=1, batch_size=100)"
      ],
      "execution_count": null,
      "outputs": [
        {
          "output_type": "stream",
          "text": [
            "100/100 [==============================] - 44s 27ms/step - loss: 19.4146 - dense_2_loss: 1.8750 - dense_2_1_loss: 1.5094 - dense_2_2_loss: 2.0305 - dense_2_3_loss: 2.7028 - dense_2_4_loss: 1.2506 - dense_2_5_loss: 1.5850 - dense_2_6_loss: 2.6735 - dense_2_7_loss: 1.2796 - dense_2_8_loss: 1.8782 - dense_2_9_loss: 2.6301 - dense_2_accuracy: 0.1626 - dense_2_1_accuracy: 0.5702 - dense_2_2_accuracy: 0.2615 - dense_2_3_accuracy: 0.1053 - dense_2_4_accuracy: 0.7669 - dense_2_5_accuracy: 0.1886 - dense_2_6_accuracy: 0.0392 - dense_2_7_accuracy: 0.8171 - dense_2_8_accuracy: 0.2012 - dense_2_9_accuracy: 0.0980\n"
          ],
          "name": "stdout"
        },
        {
          "output_type": "execute_result",
          "data": {
            "text/plain": [
              "<tensorflow.python.keras.callbacks.History at 0x7f2a62b93990>"
            ]
          },
          "metadata": {
            "tags": []
          },
          "execution_count": 24
        }
      ]
    },
    {
      "cell_type": "code",
      "metadata": {
        "id": "mn8v5vllXx6X"
      },
      "source": [
        "model.load_weights('model.h5')"
      ],
      "execution_count": null,
      "outputs": []
    },
    {
      "cell_type": "code",
      "metadata": {
        "colab": {
          "base_uri": "https://localhost:8080/"
        },
        "id": "_soCwZMYX-x_",
        "outputId": "8a5febf1-2ad7-4a8e-c421-967880b416ad"
      },
      "source": [
        "EXAMPLES = ['3 May 1979', '5 April 09', '21th of August 2016', 'Tue 10 Jul 2007', 'Saturday May 9 2018', 'March 3 2001', 'March 3rd 2001', '1 March 2001']\n",
        "s00 = np.zeros((1, n_s))\n",
        "c00 = np.zeros((1, n_s))\n",
        "for example in EXAMPLES:\n",
        "    source = string_to_int(example, Tx, human_vocab)\n",
        "    #print(source)\n",
        "    source = np.array(list(map(lambda x: to_categorical(x, num_classes=len(human_vocab)), source))).swapaxes(0,1)\n",
        "    source = np.swapaxes(source, 0, 1)\n",
        "    source = np.expand_dims(source, axis=0)\n",
        "    prediction = model.predict([source, s00, c00])\n",
        "    prediction = np.argmax(prediction, axis = -1)\n",
        "    output = [inv_machine_vocab[int(i)] for i in prediction]\n",
        "    print(\"source:\", example)\n",
        "    print(\"output:\", ''.join(output),\"\\n\")"
      ],
      "execution_count": null,
      "outputs": [
        {
          "output_type": "stream",
          "text": [
            "source: 3 May 1979\n",
            "output: 1979-05-13 \n",
            "\n",
            "source: 5 April 09\n",
            "output: 2099-04-05 \n",
            "\n",
            "source: 21th of August 2016\n",
            "output: 2016-08-11 \n",
            "\n",
            "source: Tue 10 Jul 2007\n",
            "output: 2007-07-10 \n",
            "\n",
            "source: Saturday May 9 2018\n",
            "output: 2018-05-19 \n",
            "\n",
            "source: March 3 2001\n",
            "output: 2001-03-03 \n",
            "\n",
            "source: March 3rd 2001\n",
            "output: 2001-03-03 \n",
            "\n",
            "source: 1 March 2001\n",
            "output: 2001-03-11 \n",
            "\n"
          ],
          "name": "stdout"
        }
      ]
    },
    {
      "cell_type": "markdown",
      "metadata": {
        "id": "bONOhO5XYegt"
      },
      "source": [
        "<a name='3'> </a>\n",
        "## 3 - Hình dung sự chú ý (Tùy chọn / Không được phân loại)\n",
        "\n",
        "Vì bài toán có độ dài đầu ra cố định là 10, nên cũng có thể thực hiện nhiệm vụ này bằng cách sử dụng 10 đơn vị softmax khác nhau để tạo ra 10 ký tự của đầu ra. Nhưng một ưu điểm của mô hình chú ý là mỗi phần của đầu ra (chẳng hạn như tháng) biết rằng nó chỉ cần phụ thuộc vào một phần nhỏ của đầu vào (các ký tự trong đầu vào cho biết tháng). Chúng ta có thể hình dung từng phần của đầu ra đang xem phần nào của đầu vào.\n",
        "\n",
        "Hãy xem xét nhiệm vụ dịch \"Thứ bảy ngày 9 tháng 5 năm 2018\" thành \"2018-05-09\". Nếu chúng ta trực quan hóa $ \\alpha ^ {\\langle t, t '\\rangle} $ được tính toán, chúng ta nhận được điều này:"
      ]
    },
    {
      "cell_type": "markdown",
      "metadata": {
        "id": "O9DpEC2AYnOY"
      },
      "source": [
        "![image.png](data:image/png;base64,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)"
      ]
    },
    {
      "cell_type": "markdown",
      "metadata": {
        "id": "ZgmiOMqWYjuH"
      },
      "source": [
        "Lưu ý cách đầu ra bỏ qua phần \"Thứ Bảy\" của đầu vào. Không có bước thời gian đầu ra nào chú ý nhiều đến phần đầu vào đó. Chúng tôi cũng thấy rằng 9 đã được dịch là 09 và May đã được dịch chính xác thành 05, với đầu ra chú ý đến các phần của đầu vào mà nó cần để thực hiện bản dịch. Năm phần lớn yêu cầu nó phải chú ý đến \"18\" của đầu vào để tạo ra \"2018.\""
      ]
    },
    {
      "cell_type": "markdown",
      "metadata": {
        "id": "vvafd5dZYq_R"
      },
      "source": [
        "<a name='3-1'> </a>\n",
        "### 3.1 - Thu hút sự chú ý từ mạng\n",
        "\n",
        "Bây giờ hãy hình dung các giá trị chú ý trong mạng của bạn. Chúng tôi sẽ tuyên truyền một ví dụ thông qua mạng, sau đó trực quan hóa các giá trị của $ \\ alpha ^ {\\langle t, t '\\rangle} $.\n",
        "\n",
        "Để tìm ra vị trí của các giá trị chú ý, hãy bắt đầu bằng cách in bản tóm tắt của mô hình."
      ]
    },
    {
      "cell_type": "code",
      "metadata": {
        "colab": {
          "base_uri": "https://localhost:8080/"
        },
        "id": "HZ16auqyYBxC",
        "outputId": "10c5a397-418e-444d-ef9b-eba0f739dade"
      },
      "source": [
        "model.summary()"
      ],
      "execution_count": null,
      "outputs": [
        {
          "output_type": "stream",
          "text": [
            "Model: \"model_3\"\n",
            "__________________________________________________________________________________________________\n",
            "Layer (type)                    Output Shape         Param #     Connected to                     \n",
            "==================================================================================================\n",
            "input_4 (InputLayer)            [(None, 30, 37)]     0                                            \n",
            "__________________________________________________________________________________________________\n",
            "s0 (InputLayer)                 [(None, 64)]         0                                            \n",
            "__________________________________________________________________________________________________\n",
            "bidirectional_3 (Bidirectional) (None, 30, 64)       17920       input_4[0][0]                    \n",
            "__________________________________________________________________________________________________\n",
            "repeat_vector (RepeatVector)    (None, 30, 64)       0           s0[0][0]                         \n",
            "                                                                 lstm[30][0]                      \n",
            "                                                                 lstm[31][0]                      \n",
            "                                                                 lstm[32][0]                      \n",
            "                                                                 lstm[33][0]                      \n",
            "                                                                 lstm[34][0]                      \n",
            "                                                                 lstm[35][0]                      \n",
            "                                                                 lstm[36][0]                      \n",
            "                                                                 lstm[37][0]                      \n",
            "                                                                 lstm[38][0]                      \n",
            "__________________________________________________________________________________________________\n",
            "concatenate (Concatenate)       (None, 30, 128)      0           bidirectional_3[0][0]            \n",
            "                                                                 repeat_vector[30][0]             \n",
            "                                                                 bidirectional_3[0][0]            \n",
            "                                                                 repeat_vector[31][0]             \n",
            "                                                                 bidirectional_3[0][0]            \n",
            "                                                                 repeat_vector[32][0]             \n",
            "                                                                 bidirectional_3[0][0]            \n",
            "                                                                 repeat_vector[33][0]             \n",
            "                                                                 bidirectional_3[0][0]            \n",
            "                                                                 repeat_vector[34][0]             \n",
            "                                                                 bidirectional_3[0][0]            \n",
            "                                                                 repeat_vector[35][0]             \n",
            "                                                                 bidirectional_3[0][0]            \n",
            "                                                                 repeat_vector[36][0]             \n",
            "                                                                 bidirectional_3[0][0]            \n",
            "                                                                 repeat_vector[37][0]             \n",
            "                                                                 bidirectional_3[0][0]            \n",
            "                                                                 repeat_vector[38][0]             \n",
            "                                                                 bidirectional_3[0][0]            \n",
            "                                                                 repeat_vector[39][0]             \n",
            "__________________________________________________________________________________________________\n",
            "dense (Dense)                   (None, 30, 10)       1290        concatenate[30][0]               \n",
            "                                                                 concatenate[31][0]               \n",
            "                                                                 concatenate[32][0]               \n",
            "                                                                 concatenate[33][0]               \n",
            "                                                                 concatenate[34][0]               \n",
            "                                                                 concatenate[35][0]               \n",
            "                                                                 concatenate[36][0]               \n",
            "                                                                 concatenate[37][0]               \n",
            "                                                                 concatenate[38][0]               \n",
            "                                                                 concatenate[39][0]               \n",
            "__________________________________________________________________________________________________\n",
            "dense_1 (Dense)                 (None, 30, 1)        11          dense[30][0]                     \n",
            "                                                                 dense[31][0]                     \n",
            "                                                                 dense[32][0]                     \n",
            "                                                                 dense[33][0]                     \n",
            "                                                                 dense[34][0]                     \n",
            "                                                                 dense[35][0]                     \n",
            "                                                                 dense[36][0]                     \n",
            "                                                                 dense[37][0]                     \n",
            "                                                                 dense[38][0]                     \n",
            "                                                                 dense[39][0]                     \n",
            "__________________________________________________________________________________________________\n",
            "attention_weights (Activation)  (None, 30, 1)        0           dense_1[30][0]                   \n",
            "                                                                 dense_1[31][0]                   \n",
            "                                                                 dense_1[32][0]                   \n",
            "                                                                 dense_1[33][0]                   \n",
            "                                                                 dense_1[34][0]                   \n",
            "                                                                 dense_1[35][0]                   \n",
            "                                                                 dense_1[36][0]                   \n",
            "                                                                 dense_1[37][0]                   \n",
            "                                                                 dense_1[38][0]                   \n",
            "                                                                 dense_1[39][0]                   \n",
            "__________________________________________________________________________________________________\n",
            "dot (Dot)                       (None, 1, 64)        0           attention_weights[30][0]         \n",
            "                                                                 bidirectional_3[0][0]            \n",
            "                                                                 attention_weights[31][0]         \n",
            "                                                                 bidirectional_3[0][0]            \n",
            "                                                                 attention_weights[32][0]         \n",
            "                                                                 bidirectional_3[0][0]            \n",
            "                                                                 attention_weights[33][0]         \n",
            "                                                                 bidirectional_3[0][0]            \n",
            "                                                                 attention_weights[34][0]         \n",
            "                                                                 bidirectional_3[0][0]            \n",
            "                                                                 attention_weights[35][0]         \n",
            "                                                                 bidirectional_3[0][0]            \n",
            "                                                                 attention_weights[36][0]         \n",
            "                                                                 bidirectional_3[0][0]            \n",
            "                                                                 attention_weights[37][0]         \n",
            "                                                                 bidirectional_3[0][0]            \n",
            "                                                                 attention_weights[38][0]         \n",
            "                                                                 bidirectional_3[0][0]            \n",
            "                                                                 attention_weights[39][0]         \n",
            "                                                                 bidirectional_3[0][0]            \n",
            "__________________________________________________________________________________________________\n",
            "c0 (InputLayer)                 [(None, 64)]         0                                            \n",
            "__________________________________________________________________________________________________\n",
            "lstm (LSTM)                     [(None, 64), (None,  33024       dot[30][0]                       \n",
            "                                                                 s0[0][0]                         \n",
            "                                                                 c0[0][0]                         \n",
            "                                                                 dot[31][0]                       \n",
            "                                                                 lstm[30][0]                      \n",
            "                                                                 lstm[30][2]                      \n",
            "                                                                 dot[32][0]                       \n",
            "                                                                 lstm[31][0]                      \n",
            "                                                                 lstm[31][2]                      \n",
            "                                                                 dot[33][0]                       \n",
            "                                                                 lstm[32][0]                      \n",
            "                                                                 lstm[32][2]                      \n",
            "                                                                 dot[34][0]                       \n",
            "                                                                 lstm[33][0]                      \n",
            "                                                                 lstm[33][2]                      \n",
            "                                                                 dot[35][0]                       \n",
            "                                                                 lstm[34][0]                      \n",
            "                                                                 lstm[34][2]                      \n",
            "                                                                 dot[36][0]                       \n",
            "                                                                 lstm[35][0]                      \n",
            "                                                                 lstm[35][2]                      \n",
            "                                                                 dot[37][0]                       \n",
            "                                                                 lstm[36][0]                      \n",
            "                                                                 lstm[36][2]                      \n",
            "                                                                 dot[38][0]                       \n",
            "                                                                 lstm[37][0]                      \n",
            "                                                                 lstm[37][2]                      \n",
            "                                                                 dot[39][0]                       \n",
            "                                                                 lstm[38][0]                      \n",
            "                                                                 lstm[38][2]                      \n",
            "__________________________________________________________________________________________________\n",
            "dense_2 (Dense)                 (None, 11)           715         lstm[30][2]                      \n",
            "                                                                 lstm[31][2]                      \n",
            "                                                                 lstm[32][2]                      \n",
            "                                                                 lstm[33][2]                      \n",
            "                                                                 lstm[34][2]                      \n",
            "                                                                 lstm[35][2]                      \n",
            "                                                                 lstm[36][2]                      \n",
            "                                                                 lstm[37][2]                      \n",
            "                                                                 lstm[38][2]                      \n",
            "                                                                 lstm[39][2]                      \n",
            "==================================================================================================\n",
            "Total params: 52,960\n",
            "Trainable params: 52,960\n",
            "Non-trainable params: 0\n",
            "__________________________________________________________________________________________________\n"
          ],
          "name": "stdout"
        }
      ]
    },
    {
      "cell_type": "code",
      "metadata": {
        "colab": {
          "base_uri": "https://localhost:8080/",
          "height": 460
        },
        "id": "1YUY1ixAYwvk",
        "outputId": "6bfd25a5-20bd-4101-84e3-baa230b85be7"
      },
      "source": [
        "attention_map = plot_attention_map(model, human_vocab, inv_machine_vocab, \"Tuesday 09 Oct 1993\", num = 7, n_s = 64);"
      ],
      "execution_count": null,
      "outputs": [
        {
          "output_type": "display_data",
          "data": {
            "text/plain": [
              "<Figure size 432x288 with 0 Axes>"
            ]
          },
          "metadata": {
            "tags": []
          }
        },
        {
          "output_type": "display_data",
          "data": {
            "image/png": "[encoded data removed]",
            "text/plain": [
              "<Figure size 576x612 with 2 Axes>"
            ]
          },
          "metadata": {
            "tags": [],
            "needs_background": "light"
          }
        }
      ]
    },
    {
      "cell_type": "markdown",
      "metadata": {
        "id": "mcjDAOvGY3fS"
      },
      "source": [
        "### Xin chúc mừng!\n",
        "\n",
        "\n",
        "Bạn đã hoàn thành nhiệm vụ này\n",
        "\n",
        "#### Đây là những gì bạn nên nhớ\n",
        "\n",
        "- Máy dịch mô hình có thể được sử dụng để ánh xạ từ này sang chuỗi khác. Chúng tôi không hữu ích để dịch ngôn ngữ của con người (như tiếng Pháp-> tiếng Anh) mà còn cho các tác vụ như ngày tháng định dạng.\n",
        "- Chú ý cơ chế cho phép một tập tin mạng vào các phần có đầu liên quan khi sản xuất một phần cụ thể của đầu ra.\n",
        "- Một mạng sử dụng cơ chế chú thích có thể dịch từ đầu vào có độ dài $ T_x $ sang đầu có độ dài $ T_y $, trong đó $ T_x $ và $ T_y $ có thể khác nhau.\n",
        "- Bạn có thể định hình các chú thích quan trọng $ \\alpha ^ {\\langle t, t '\\rangle} $ để xem mạng đang chú ý đến điều gì khi tạo ra từng đoạn đầu."
      ]
    },
    {
      "cell_type": "code",
      "metadata": {
        "id": "DWxx7e2rYzXx"
      },
      "source": [
        ""
      ],
      "execution_count": null,
      "outputs": []
    }
  ]
}